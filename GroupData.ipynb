{
 "cells": [
  {
   "cell_type": "markdown",
   "metadata": {},
   "source": [
    "Introduction:"
   ]
  },
  {
   "cell_type": "markdown",
   "metadata": {},
   "source": [
    "For This project, we decided to approach the search for the \"best\" neighborhood in Pittsburgh with the primary metric being focused on what neighborhood is most fun. We first had to determine what fun meant and to what group of people. Due to our ages and definitions of fun we decided to look into neighborhood demographics, recreation, and safety. Initially we were thinking of using 3 different examples of neighborhood recreation to measure fun but decided that fun means things outside of entertainment being available to create a holistically positive environment."
   ]
  },
  {
   "cell_type": "markdown",
   "metadata": {},
   "source": [
    "The Metric:"
   ]
  },
  {
   "cell_type": "markdown",
   "metadata": {},
   "source": [
    "To do this, our submetrics consisted of general demographic information to first see where the most young-adults lived. Next we looked at geographical data based on how many restaurants are in one given region to measure the levels of recreation within neighborhoods and finally measured crime rates to determine the safety of neighborhoods in Pittsburgh. The most important aspects of our data sets were that they represented data specific to individual neighborhoods within Pittsburgh. Without the mention of specific neighborhoods there would be no way to narrow our search to see where our submetrics overlap in order to come to a consensus about what neighborhood was the best."
   ]
  },
  {
   "cell_type": "code",
   "execution_count": null,
   "metadata": {},
   "outputs": [],
   "source": []
  }
 ],
 "metadata": {
  "kernelspec": {
   "display_name": "Python 3",
   "language": "python",
   "name": "python3"
  },
  "language_info": {
   "codemirror_mode": {
    "name": "ipython",
    "version": 3
   },
   "file_extension": ".py",
   "mimetype": "text/x-python",
   "name": "python",
   "nbconvert_exporter": "python",
   "pygments_lexer": "ipython3",
   "version": "3.8.3"
  }
 },
 "nbformat": 4,
 "nbformat_minor": 4
}
